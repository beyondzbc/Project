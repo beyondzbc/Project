{
 "cells": [
  {
   "cell_type": "markdown",
   "metadata": {},
   "source": [
    "应用系统在日常运行时，会对底层软、硬件造成负荷，影响应用系统性能。本次重点分析存储设备中磁盘容量预测，通过对磁盘容量进行预测，可预测磁盘未来的负载情况，避免应用系统因出现存储容量耗尽的情况导致系统负载率过高，最终引发系统故障。\n",
    "SYS_NAME:资产所在的系统名称；\n",
    "NAME:资产名称；\n",
    "TARGET_ID：属性标识号，183、184分别标识磁盘容量大小和磁盘已使用大小；\n",
    "DESCRIPTION:针对属性标识的说明；\n",
    "ENTITY:具体的属性；\n",
    "VALUE:采集到的值；\n",
    "COLLECTTIME:采集的时间"
   ]
  },
  {
   "cell_type": "code",
   "execution_count": 13,
   "metadata": {},
   "outputs": [],
   "source": [
    "import pandas as pd\n",
    "data=pd.read_excel('./discdata.xls')\n",
    "data=data[data['TARGET_ID']==184].copy()\n",
    "data_group=data.groupby('COLLECTTIME')\n",
    "#定义属性变换函数\n",
    "def attr_trans(x):\n",
    "    result=pd.Series(index=['SYS_NAME','CWXT_DB:184:C:\\\\','CWXT_DB:184:D:\\\\','COLLECTTIME'])\n",
    "    result['SYS_NAME']=x['SYS_NAME'].iloc[0]\n",
    "    result['COLLECTTIME']=x['COLLECTTIME'].iloc[0]\n",
    "    result['CWXT_DB:184:C:\\\\']=x['VALUE'].iloc[0]\n",
    "    result['CWXT_DB:184:D:\\\\']=x['VALUE'].iloc[1]\n",
    "    return result\n",
    "data_processed=data_group.apply(attr_trans)\n",
    "data_processed.to_excel('./discdata_processed.xlsx',index=False)"
   ]
  },
  {
   "cell_type": "code",
   "execution_count": 23,
   "metadata": {},
   "outputs": [
    {
     "name": "stdout",
     "output_type": "stream",
     "text": [
      "原始序列经过1阶差分后归于平稳，p值为4.792591263393756e-07\n"
     ]
    }
   ],
   "source": [
    "#平稳性检测\n",
    "data=pd.read_excel('./discdata_processed.xlsx')\n",
    "data=data.iloc[:len(data)-5]\n",
    "from statsmodels.tsa.stattools import adfuller as ADF\n",
    "diff=0\n",
    "adf=ADF(data['CWXT_DB:184:D:\\\\'])\n",
    "while adf[1]>=0.05:\n",
    "    diff+=1\n",
    "    adf=ADF(data['CWXT_DB:184:D:\\\\'].diff(diff).dropna())\n",
    "print('原始序列经过%s阶差分后归于平稳，p值为%s' %(diff,adf[1]))"
   ]
  },
  {
   "cell_type": "code",
   "execution_count": 25,
   "metadata": {},
   "outputs": [
    {
     "name": "stdout",
     "output_type": "stream",
     "text": [
      "原始序列为非白噪声序列，对应的p值为：9.95850372977218e-06\n",
      "一阶差分序列为白噪声序列，对应的p值为：0.1143302597764247\n"
     ]
    }
   ],
   "source": [
    "#白噪声检测\n",
    "from statsmodels.stats.diagnostic import acorr_ljungbox\n",
    "[[lb],[p]]=acorr_ljungbox(data['CWXT_DB:184:D:\\\\'],lags=1)\n",
    "if p<0.05:\n",
    "    print('原始序列为非白噪声序列，对应的p值为：%s' %p)\n",
    "else:\n",
    "    print('原始序列为白噪声序列，对应的p值为：%s' %p)\n",
    "[[lb],[p]]=acorr_ljungbox(data['CWXT_DB:184:D:\\\\'].diff().dropna(),lags=1)\n",
    "if p<0.05:\n",
    "    print('一阶差分序列为非白噪声序列，对应的p值为：%s' %p)\n",
    "else:\n",
    "    print('一阶差分序列为白噪声序列，对应的p值为：%s' %p)"
   ]
  },
  {
   "cell_type": "code",
   "execution_count": 51,
   "metadata": {},
   "outputs": [
    {
     "name": "stdout",
     "output_type": "stream",
     "text": [
      "BIC最小的p值和q值为：1、1\n"
     ]
    }
   ],
   "source": [
    "#确定最佳p,d,q值\n",
    "data=pd.read_excel('./discdata_processed.xlsx',index_col='COLLECTTIME')\n",
    "data=data.iloc[:len(data)-5]\n",
    "xdata=data['CWXT_DB:184:D:\\\\']\n",
    "from statsmodels.tsa.arima_model import ARIMA\n",
    "pmax=int(len(xdata)/10)\n",
    "qmax=int(len(xdata)/10)\n",
    "bic_matrix=[]\n",
    "for p in range(qmax+1):\n",
    "    tmp=[]\n",
    "    for q in range(pmax+1):\n",
    "        try:\n",
    "            tmp.append(ARIMA(xdata,(p,1,q)).fit().bic)\n",
    "        except:\n",
    "            tmp.append(None)\n",
    "    bic_matrix.append(tmp)\n",
    "bic_matrix=pd.DataFrame(bic_matrix)\n",
    "bic_matrix=bic_matrix.astype('float64')\n",
    "p,q=bic_matrix.stack().idxmin()\n",
    "print('BIC最小的p值和q值为：%s、%s' %(p,q))"
   ]
  },
  {
   "cell_type": "code",
   "execution_count": 52,
   "metadata": {},
   "outputs": [
    {
     "name": "stderr",
     "output_type": "stream",
     "text": [
      "D:\\winapps\\anaconda\\lib\\site-packages\\statsmodels\\tsa\\base\\tsa_model.py:171: ValueWarning: No frequency information was provided, so inferred frequency D will be used.\n",
      "  % freq, ValueWarning)\n",
      "D:\\winapps\\anaconda\\lib\\site-packages\\statsmodels\\tsa\\base\\tsa_model.py:191: FutureWarning: Creating a DatetimeIndex by passing range endpoints is deprecated.  Use `pandas.date_range` instead.\n",
      "  start=index[0], end=index[-1], freq=freq)\n"
     ]
    },
    {
     "name": "stdout",
     "output_type": "stream",
     "text": [
      "模型ARIMA(0,1,1)符合白噪声检验\n"
     ]
    }
   ],
   "source": [
    "#模型检验\n",
    "from statsmodels.tsa.arima_model import ARIMA\n",
    "arima=ARIMA(xdata,(0,1,1)).fit()\n",
    "xdata_pred=arima.predict(typ='levels')\n",
    "pred_error=(xdata_pred-xdata).dropna()\n",
    "from statsmodels.stats.diagnostic import acorr_ljungbox\n",
    "lb,p=acorr_ljungbox(pred_error,lags=12)\n",
    "h=(p<0.05).sum()\n",
    "if h>0:\n",
    "    print('模型ARIMA(0,1,1)不符合白噪声检验')\n",
    "else:\n",
    "    print('模型ARIMA(0,1,1)符合白噪声检验')"
   ]
  },
  {
   "cell_type": "code",
   "execution_count": 57,
   "metadata": {},
   "outputs": [
    {
     "name": "stdout",
     "output_type": "stream",
     "text": [
      "平均绝对误差为：1.1068,均方误差为：1.3744,平均绝对百分误差为：0.012610\n"
     ]
    }
   ],
   "source": [
    "#计算预测误差\n",
    "data=pd.read_excel('./predictdata.xlsx')\n",
    "abs_=(data[u'预测值']-data[u'实际值']).abs()\n",
    "mae_=abs_.mean()\n",
    "rmse_=((abs_**2).mean())\n",
    "mape_=(abs_/data[u'实际值']).mean()\n",
    "print('平均绝对误差为：%.4f,均方误差为：%.4f,平均绝对百分误差为：%.6f' %(mae_,rmse_,mape_))"
   ]
  },
  {
   "cell_type": "markdown",
   "metadata": {},
   "source": [
    "结合实际业务分析，将误差阈值设定为1.5，实际值与预测值之间的误差都小于误差阈值，模型的预测效果在实际业务可接受范围内，可以采用此模型进行预测。"
   ]
  },
  {
   "cell_type": "code",
   "execution_count": null,
   "metadata": {},
   "outputs": [],
   "source": []
  }
 ],
 "metadata": {
  "kernelspec": {
   "display_name": "Python 3",
   "language": "python",
   "name": "python3"
  },
  "language_info": {
   "codemirror_mode": {
    "name": "ipython",
    "version": 3
   },
   "file_extension": ".py",
   "mimetype": "text/x-python",
   "name": "python",
   "nbconvert_exporter": "python",
   "pygments_lexer": "ipython3",
   "version": "3.7.3"
  }
 },
 "nbformat": 4,
 "nbformat_minor": 2
}
